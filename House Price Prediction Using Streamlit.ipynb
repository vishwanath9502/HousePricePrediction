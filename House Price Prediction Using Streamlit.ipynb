{
 "cells": [
  {
   "cell_type": "code",
   "execution_count": null,
   "id": "f224a6de",
   "metadata": {},
   "outputs": [],
   "source": []
  },
  {
   "cell_type": "code",
   "execution_count": 1,
   "id": "8e5bd1d2",
   "metadata": {},
   "outputs": [],
   "source": [
    "import pandas as pd\n",
    "import numpy as np\n",
    "import matplotlib.pyplot as plt\n"
   ]
  },
  {
   "cell_type": "markdown",
   "id": "38abf74a",
   "metadata": {},
   "source": [
    "Importing the Data Set"
   ]
  },
  {
   "cell_type": "code",
   "execution_count": 2,
   "id": "49a6181d",
   "metadata": {},
   "outputs": [],
   "source": [
    "df = pd.read_csv(r\"D:\\Vishu\\My\\Innomatics\\New\\housing_price_dataset.csv\")"
   ]
  },
  {
   "cell_type": "code",
   "execution_count": 3,
   "id": "6022134e",
   "metadata": {},
   "outputs": [
    {
     "data": {
      "text/html": [
       "<div>\n",
       "<style scoped>\n",
       "    .dataframe tbody tr th:only-of-type {\n",
       "        vertical-align: middle;\n",
       "    }\n",
       "\n",
       "    .dataframe tbody tr th {\n",
       "        vertical-align: top;\n",
       "    }\n",
       "\n",
       "    .dataframe thead th {\n",
       "        text-align: right;\n",
       "    }\n",
       "</style>\n",
       "<table border=\"1\" class=\"dataframe\">\n",
       "  <thead>\n",
       "    <tr style=\"text-align: right;\">\n",
       "      <th></th>\n",
       "      <th>SquareFeet</th>\n",
       "      <th>Bedrooms</th>\n",
       "      <th>Bathrooms</th>\n",
       "      <th>Neighborhood</th>\n",
       "      <th>YearBuilt</th>\n",
       "      <th>Price</th>\n",
       "    </tr>\n",
       "  </thead>\n",
       "  <tbody>\n",
       "    <tr>\n",
       "      <th>0</th>\n",
       "      <td>2126</td>\n",
       "      <td>4</td>\n",
       "      <td>1</td>\n",
       "      <td>Rural</td>\n",
       "      <td>1969</td>\n",
       "      <td>215355.283618</td>\n",
       "    </tr>\n",
       "    <tr>\n",
       "      <th>1</th>\n",
       "      <td>2459</td>\n",
       "      <td>3</td>\n",
       "      <td>2</td>\n",
       "      <td>Rural</td>\n",
       "      <td>1980</td>\n",
       "      <td>195014.221626</td>\n",
       "    </tr>\n",
       "    <tr>\n",
       "      <th>2</th>\n",
       "      <td>1860</td>\n",
       "      <td>2</td>\n",
       "      <td>1</td>\n",
       "      <td>Suburb</td>\n",
       "      <td>1970</td>\n",
       "      <td>306891.012076</td>\n",
       "    </tr>\n",
       "    <tr>\n",
       "      <th>3</th>\n",
       "      <td>2294</td>\n",
       "      <td>2</td>\n",
       "      <td>1</td>\n",
       "      <td>Urban</td>\n",
       "      <td>1996</td>\n",
       "      <td>206786.787153</td>\n",
       "    </tr>\n",
       "    <tr>\n",
       "      <th>4</th>\n",
       "      <td>2130</td>\n",
       "      <td>5</td>\n",
       "      <td>2</td>\n",
       "      <td>Suburb</td>\n",
       "      <td>2001</td>\n",
       "      <td>272436.239065</td>\n",
       "    </tr>\n",
       "    <tr>\n",
       "      <th>...</th>\n",
       "      <td>...</td>\n",
       "      <td>...</td>\n",
       "      <td>...</td>\n",
       "      <td>...</td>\n",
       "      <td>...</td>\n",
       "      <td>...</td>\n",
       "    </tr>\n",
       "    <tr>\n",
       "      <th>49995</th>\n",
       "      <td>1282</td>\n",
       "      <td>5</td>\n",
       "      <td>3</td>\n",
       "      <td>Rural</td>\n",
       "      <td>1975</td>\n",
       "      <td>100080.865895</td>\n",
       "    </tr>\n",
       "    <tr>\n",
       "      <th>49996</th>\n",
       "      <td>2854</td>\n",
       "      <td>2</td>\n",
       "      <td>2</td>\n",
       "      <td>Suburb</td>\n",
       "      <td>1988</td>\n",
       "      <td>374507.656727</td>\n",
       "    </tr>\n",
       "    <tr>\n",
       "      <th>49997</th>\n",
       "      <td>2979</td>\n",
       "      <td>5</td>\n",
       "      <td>3</td>\n",
       "      <td>Suburb</td>\n",
       "      <td>1962</td>\n",
       "      <td>384110.555590</td>\n",
       "    </tr>\n",
       "    <tr>\n",
       "      <th>49998</th>\n",
       "      <td>2596</td>\n",
       "      <td>5</td>\n",
       "      <td>2</td>\n",
       "      <td>Rural</td>\n",
       "      <td>1984</td>\n",
       "      <td>380512.685957</td>\n",
       "    </tr>\n",
       "    <tr>\n",
       "      <th>49999</th>\n",
       "      <td>1572</td>\n",
       "      <td>5</td>\n",
       "      <td>3</td>\n",
       "      <td>Rural</td>\n",
       "      <td>2011</td>\n",
       "      <td>221618.583218</td>\n",
       "    </tr>\n",
       "  </tbody>\n",
       "</table>\n",
       "<p>50000 rows × 6 columns</p>\n",
       "</div>"
      ],
      "text/plain": [
       "       SquareFeet  Bedrooms  Bathrooms Neighborhood  YearBuilt          Price\n",
       "0            2126         4          1        Rural       1969  215355.283618\n",
       "1            2459         3          2        Rural       1980  195014.221626\n",
       "2            1860         2          1       Suburb       1970  306891.012076\n",
       "3            2294         2          1        Urban       1996  206786.787153\n",
       "4            2130         5          2       Suburb       2001  272436.239065\n",
       "...           ...       ...        ...          ...        ...            ...\n",
       "49995        1282         5          3        Rural       1975  100080.865895\n",
       "49996        2854         2          2       Suburb       1988  374507.656727\n",
       "49997        2979         5          3       Suburb       1962  384110.555590\n",
       "49998        2596         5          2        Rural       1984  380512.685957\n",
       "49999        1572         5          3        Rural       2011  221618.583218\n",
       "\n",
       "[50000 rows x 6 columns]"
      ]
     },
     "execution_count": 3,
     "metadata": {},
     "output_type": "execute_result"
    }
   ],
   "source": [
    "df"
   ]
  },
  {
   "cell_type": "code",
   "execution_count": 4,
   "id": "b8add894",
   "metadata": {},
   "outputs": [
    {
     "data": {
      "text/html": [
       "<div>\n",
       "<style scoped>\n",
       "    .dataframe tbody tr th:only-of-type {\n",
       "        vertical-align: middle;\n",
       "    }\n",
       "\n",
       "    .dataframe tbody tr th {\n",
       "        vertical-align: top;\n",
       "    }\n",
       "\n",
       "    .dataframe thead th {\n",
       "        text-align: right;\n",
       "    }\n",
       "</style>\n",
       "<table border=\"1\" class=\"dataframe\">\n",
       "  <thead>\n",
       "    <tr style=\"text-align: right;\">\n",
       "      <th></th>\n",
       "      <th>SquareFeet</th>\n",
       "      <th>Bedrooms</th>\n",
       "      <th>Bathrooms</th>\n",
       "      <th>Neighborhood</th>\n",
       "      <th>YearBuilt</th>\n",
       "      <th>Price</th>\n",
       "    </tr>\n",
       "  </thead>\n",
       "  <tbody>\n",
       "    <tr>\n",
       "      <th>0</th>\n",
       "      <td>2126</td>\n",
       "      <td>4</td>\n",
       "      <td>1</td>\n",
       "      <td>Rural</td>\n",
       "      <td>1969</td>\n",
       "      <td>215355.283618</td>\n",
       "    </tr>\n",
       "    <tr>\n",
       "      <th>1</th>\n",
       "      <td>2459</td>\n",
       "      <td>3</td>\n",
       "      <td>2</td>\n",
       "      <td>Rural</td>\n",
       "      <td>1980</td>\n",
       "      <td>195014.221626</td>\n",
       "    </tr>\n",
       "    <tr>\n",
       "      <th>2</th>\n",
       "      <td>1860</td>\n",
       "      <td>2</td>\n",
       "      <td>1</td>\n",
       "      <td>Suburb</td>\n",
       "      <td>1970</td>\n",
       "      <td>306891.012076</td>\n",
       "    </tr>\n",
       "    <tr>\n",
       "      <th>3</th>\n",
       "      <td>2294</td>\n",
       "      <td>2</td>\n",
       "      <td>1</td>\n",
       "      <td>Urban</td>\n",
       "      <td>1996</td>\n",
       "      <td>206786.787153</td>\n",
       "    </tr>\n",
       "    <tr>\n",
       "      <th>4</th>\n",
       "      <td>2130</td>\n",
       "      <td>5</td>\n",
       "      <td>2</td>\n",
       "      <td>Suburb</td>\n",
       "      <td>2001</td>\n",
       "      <td>272436.239065</td>\n",
       "    </tr>\n",
       "  </tbody>\n",
       "</table>\n",
       "</div>"
      ],
      "text/plain": [
       "   SquareFeet  Bedrooms  Bathrooms Neighborhood  YearBuilt          Price\n",
       "0        2126         4          1        Rural       1969  215355.283618\n",
       "1        2459         3          2        Rural       1980  195014.221626\n",
       "2        1860         2          1       Suburb       1970  306891.012076\n",
       "3        2294         2          1        Urban       1996  206786.787153\n",
       "4        2130         5          2       Suburb       2001  272436.239065"
      ]
     },
     "execution_count": 4,
     "metadata": {},
     "output_type": "execute_result"
    }
   ],
   "source": [
    "df.head()"
   ]
  },
  {
   "cell_type": "code",
   "execution_count": 5,
   "id": "de7ee669",
   "metadata": {},
   "outputs": [
    {
     "data": {
      "text/plain": [
       "SquareFeet        int64\n",
       "Bedrooms          int64\n",
       "Bathrooms         int64\n",
       "Neighborhood     object\n",
       "YearBuilt         int64\n",
       "Price           float64\n",
       "dtype: object"
      ]
     },
     "execution_count": 5,
     "metadata": {},
     "output_type": "execute_result"
    }
   ],
   "source": [
    "df.dtypes"
   ]
  },
  {
   "cell_type": "code",
   "execution_count": 6,
   "id": "ba71302b",
   "metadata": {},
   "outputs": [
    {
     "data": {
      "text/plain": [
       "<bound method DataFrame.info of        SquareFeet  Bedrooms  Bathrooms Neighborhood  YearBuilt          Price\n",
       "0            2126         4          1        Rural       1969  215355.283618\n",
       "1            2459         3          2        Rural       1980  195014.221626\n",
       "2            1860         2          1       Suburb       1970  306891.012076\n",
       "3            2294         2          1        Urban       1996  206786.787153\n",
       "4            2130         5          2       Suburb       2001  272436.239065\n",
       "...           ...       ...        ...          ...        ...            ...\n",
       "49995        1282         5          3        Rural       1975  100080.865895\n",
       "49996        2854         2          2       Suburb       1988  374507.656727\n",
       "49997        2979         5          3       Suburb       1962  384110.555590\n",
       "49998        2596         5          2        Rural       1984  380512.685957\n",
       "49999        1572         5          3        Rural       2011  221618.583218\n",
       "\n",
       "[50000 rows x 6 columns]>"
      ]
     },
     "execution_count": 6,
     "metadata": {},
     "output_type": "execute_result"
    }
   ],
   "source": [
    "df.info"
   ]
  },
  {
   "cell_type": "code",
   "execution_count": 7,
   "id": "d0d10fa8",
   "metadata": {},
   "outputs": [
    {
     "data": {
      "text/plain": [
       "SquareFeet      0\n",
       "Bedrooms        0\n",
       "Bathrooms       0\n",
       "Neighborhood    0\n",
       "YearBuilt       0\n",
       "Price           0\n",
       "dtype: int64"
      ]
     },
     "execution_count": 7,
     "metadata": {},
     "output_type": "execute_result"
    }
   ],
   "source": [
    "df.isna().sum()"
   ]
  },
  {
   "cell_type": "code",
   "execution_count": 8,
   "id": "f5662254",
   "metadata": {},
   "outputs": [
    {
     "data": {
      "text/plain": [
       "0"
      ]
     },
     "execution_count": 8,
     "metadata": {},
     "output_type": "execute_result"
    }
   ],
   "source": [
    "df.duplicated().sum()"
   ]
  },
  {
   "cell_type": "code",
   "execution_count": 9,
   "id": "e3f48ae0",
   "metadata": {},
   "outputs": [],
   "source": [
    "df[\"Neighborhood\"] = df[\"Neighborhood\"].map({'Rural':1, 'Suburb':2,'Urban':3})"
   ]
  },
  {
   "cell_type": "code",
   "execution_count": 10,
   "id": "0c1d1310",
   "metadata": {},
   "outputs": [
    {
     "data": {
      "text/html": [
       "<div>\n",
       "<style scoped>\n",
       "    .dataframe tbody tr th:only-of-type {\n",
       "        vertical-align: middle;\n",
       "    }\n",
       "\n",
       "    .dataframe tbody tr th {\n",
       "        vertical-align: top;\n",
       "    }\n",
       "\n",
       "    .dataframe thead th {\n",
       "        text-align: right;\n",
       "    }\n",
       "</style>\n",
       "<table border=\"1\" class=\"dataframe\">\n",
       "  <thead>\n",
       "    <tr style=\"text-align: right;\">\n",
       "      <th></th>\n",
       "      <th>SquareFeet</th>\n",
       "      <th>Bedrooms</th>\n",
       "      <th>Bathrooms</th>\n",
       "      <th>Neighborhood</th>\n",
       "      <th>YearBuilt</th>\n",
       "      <th>Price</th>\n",
       "    </tr>\n",
       "  </thead>\n",
       "  <tbody>\n",
       "    <tr>\n",
       "      <th>0</th>\n",
       "      <td>2126</td>\n",
       "      <td>4</td>\n",
       "      <td>1</td>\n",
       "      <td>1</td>\n",
       "      <td>1969</td>\n",
       "      <td>215355.283618</td>\n",
       "    </tr>\n",
       "    <tr>\n",
       "      <th>1</th>\n",
       "      <td>2459</td>\n",
       "      <td>3</td>\n",
       "      <td>2</td>\n",
       "      <td>1</td>\n",
       "      <td>1980</td>\n",
       "      <td>195014.221626</td>\n",
       "    </tr>\n",
       "    <tr>\n",
       "      <th>2</th>\n",
       "      <td>1860</td>\n",
       "      <td>2</td>\n",
       "      <td>1</td>\n",
       "      <td>2</td>\n",
       "      <td>1970</td>\n",
       "      <td>306891.012076</td>\n",
       "    </tr>\n",
       "    <tr>\n",
       "      <th>3</th>\n",
       "      <td>2294</td>\n",
       "      <td>2</td>\n",
       "      <td>1</td>\n",
       "      <td>3</td>\n",
       "      <td>1996</td>\n",
       "      <td>206786.787153</td>\n",
       "    </tr>\n",
       "    <tr>\n",
       "      <th>4</th>\n",
       "      <td>2130</td>\n",
       "      <td>5</td>\n",
       "      <td>2</td>\n",
       "      <td>2</td>\n",
       "      <td>2001</td>\n",
       "      <td>272436.239065</td>\n",
       "    </tr>\n",
       "  </tbody>\n",
       "</table>\n",
       "</div>"
      ],
      "text/plain": [
       "   SquareFeet  Bedrooms  Bathrooms  Neighborhood  YearBuilt          Price\n",
       "0        2126         4          1             1       1969  215355.283618\n",
       "1        2459         3          2             1       1980  195014.221626\n",
       "2        1860         2          1             2       1970  306891.012076\n",
       "3        2294         2          1             3       1996  206786.787153\n",
       "4        2130         5          2             2       2001  272436.239065"
      ]
     },
     "execution_count": 10,
     "metadata": {},
     "output_type": "execute_result"
    }
   ],
   "source": [
    "df.head()"
   ]
  },
  {
   "cell_type": "code",
   "execution_count": null,
   "id": "a22563f4",
   "metadata": {},
   "outputs": [],
   "source": []
  },
  {
   "cell_type": "markdown",
   "id": "138690a0",
   "metadata": {},
   "source": [
    "### Model Building"
   ]
  },
  {
   "cell_type": "markdown",
   "id": "ee7ffc9b",
   "metadata": {},
   "source": [
    "Spliting into output and output"
   ]
  },
  {
   "cell_type": "code",
   "execution_count": 11,
   "id": "8d5af88f",
   "metadata": {},
   "outputs": [],
   "source": [
    "X = df.drop('Price',axis=1)\n",
    "y = df['Price']"
   ]
  },
  {
   "cell_type": "markdown",
   "id": "5094a124",
   "metadata": {},
   "source": [
    "Spliting into train and Test"
   ]
  },
  {
   "cell_type": "code",
   "execution_count": 12,
   "id": "2da46a63",
   "metadata": {},
   "outputs": [
    {
     "name": "stdout",
     "output_type": "stream",
     "text": [
      "Requirement already satisfied: scikit-learn in c:\\users\\gorla\\anaconda3\\desktop\\lib\\site-packages (1.2.1)\n",
      "Requirement already satisfied: scipy>=1.3.2 in c:\\users\\gorla\\anaconda3\\desktop\\lib\\site-packages (from scikit-learn) (1.10.0)\n",
      "Requirement already satisfied: joblib>=1.1.1 in c:\\users\\gorla\\anaconda3\\desktop\\lib\\site-packages (from scikit-learn) (1.1.1)\n",
      "Requirement already satisfied: threadpoolctl>=2.0.0 in c:\\users\\gorla\\anaconda3\\desktop\\lib\\site-packages (from scikit-learn) (2.2.0)\n",
      "Requirement already satisfied: numpy>=1.17.3 in c:\\users\\gorla\\anaconda3\\desktop\\lib\\site-packages (from scikit-learn) (1.23.5)\n"
     ]
    }
   ],
   "source": [
    "!pip install scikit-learn"
   ]
  },
  {
   "cell_type": "code",
   "execution_count": 13,
   "id": "8558156b",
   "metadata": {},
   "outputs": [],
   "source": [
    "from sklearn.model_selection import train_test_split"
   ]
  },
  {
   "cell_type": "code",
   "execution_count": 14,
   "id": "88bc2af6",
   "metadata": {},
   "outputs": [
    {
     "data": {
      "text/plain": [
       "[       SquareFeet  Bedrooms  Bathrooms  Neighborhood  YearBuilt\n",
       " 27345        2839         4          2             3       1970\n",
       " 44839        1793         4          2             1       1990\n",
       " 20292        2180         3          2             1       2015\n",
       " 15963        1862         5          3             2       1974\n",
       " 35447        2316         2          2             3       1970\n",
       " ...           ...       ...        ...           ...        ...\n",
       " 24071        1105         3          3             3       1969\n",
       " 38953        1517         4          3             1       1983\n",
       " 17144        2236         4          3             1       1971\n",
       " 43631        2939         5          2             1       1951\n",
       " 3476         1231         5          2             3       1986\n",
       " \n",
       " [40000 rows x 5 columns],\n",
       "        SquareFeet  Bedrooms  Bathrooms  Neighborhood  YearBuilt\n",
       " 31172        2300         2          1             2       1995\n",
       " 48280        1101         5          2             2       1987\n",
       " 20172        2991         3          1             2       1972\n",
       " 32971        2370         4          2             1       2017\n",
       " 9073         2058         2          3             3       2011\n",
       " ...           ...       ...        ...           ...        ...\n",
       " 37488        2557         5          3             2       2008\n",
       " 24397        2727         3          1             1       1991\n",
       " 48134        1526         5          3             1       1951\n",
       " 29597        2300         4          2             1       1974\n",
       " 47291        2109         5          3             1       2019\n",
       " \n",
       " [10000 rows x 5 columns],\n",
       " 27345    263033.054977\n",
       " 44839    264277.038200\n",
       " 20292    254499.031750\n",
       " 15963    230633.355302\n",
       " 35447    320304.531897\n",
       "              ...      \n",
       " 24071    167938.998652\n",
       " 38953    182851.504795\n",
       " 17144    287118.126662\n",
       " 43631    263012.739669\n",
       " 3476     203542.425002\n",
       " Name: Price, Length: 40000, dtype: float64,\n",
       " 31172    198169.965020\n",
       " 48280    101508.419894\n",
       " 20172    258524.470019\n",
       " 32971    257819.156494\n",
       " 9073     278842.819713\n",
       "              ...      \n",
       " 37488    352534.588958\n",
       " 24397    145638.982887\n",
       " 48134    218155.365952\n",
       " 29597    308108.297543\n",
       " 47291    237790.418497\n",
       " Name: Price, Length: 10000, dtype: float64]"
      ]
     },
     "execution_count": 14,
     "metadata": {},
     "output_type": "execute_result"
    }
   ],
   "source": [
    "train_test_split(X,y,train_size=0.8)"
   ]
  },
  {
   "cell_type": "code",
   "execution_count": 15,
   "id": "8979ae95",
   "metadata": {},
   "outputs": [
    {
     "data": {
      "text/plain": [
       "[       SquareFeet  Bedrooms  Bathrooms  Neighborhood  YearBuilt\n",
       " 20198        2169         2          3             1       1988\n",
       " 34103        2568         3          2             2       1977\n",
       " 40179        1339         3          3             1       1958\n",
       " 34586        2716         2          1             1       1978\n",
       " 30725        2307         3          1             1       1974\n",
       " ...           ...       ...        ...           ...        ...\n",
       " 9704         2788         4          3             2       1986\n",
       " 11190        2557         5          1             2       2004\n",
       " 26569        2344         3          2             1       1961\n",
       " 9256         1105         5          2             2       2008\n",
       " 41555        2248         2          3             3       2020\n",
       " \n",
       " [40000 rows x 5 columns],\n",
       "        SquareFeet  Bedrooms  Bathrooms  Neighborhood  YearBuilt\n",
       " 49466        1055         3          2             1       1969\n",
       " 11621        1754         4          3             1       1973\n",
       " 39058        2872         4          3             3       1965\n",
       " 10033        1897         4          3             2       1985\n",
       " 22076        1212         3          3             2       1957\n",
       " ...           ...       ...        ...           ...        ...\n",
       " 16074        1546         5          2             3       1973\n",
       " 26432        2946         5          3             3       1990\n",
       " 17868        2718         4          2             2       1970\n",
       " 36795        2304         2          3             1       2005\n",
       " 39347        1951         5          3             2       1967\n",
       " \n",
       " [10000 rows x 5 columns],\n",
       " 20198    228636.427976\n",
       " 34103    287975.102308\n",
       " 40179    122207.178001\n",
       " 34586    247796.617709\n",
       " 30725    274869.741290\n",
       "              ...      \n",
       " 9704     203057.283779\n",
       " 11190    278386.471087\n",
       " 26569    256700.396332\n",
       " 9256     110490.946694\n",
       " 41555    248965.325384\n",
       " Name: Price, Length: 40000, dtype: float64,\n",
       " 49466    151764.050861\n",
       " 11621    152160.708390\n",
       " 39058    249985.943993\n",
       " 10033    177450.841614\n",
       " 22076    222364.843033\n",
       "              ...      \n",
       " 16074    244383.180423\n",
       " 26432    342541.588760\n",
       " 17868    340856.680451\n",
       " 36795    228174.850843\n",
       " 39347    213233.341885\n",
       " Name: Price, Length: 10000, dtype: float64]"
      ]
     },
     "execution_count": 15,
     "metadata": {},
     "output_type": "execute_result"
    }
   ],
   "source": [
    "train_test_split(X,y,test_size=0.2, random_state=23)"
   ]
  },
  {
   "cell_type": "code",
   "execution_count": 16,
   "id": "aeb17e48",
   "metadata": {},
   "outputs": [],
   "source": [
    "X_train,X_test,y_train,y_test = train_test_split(X,y,test_size=0.2, random_state=23)"
   ]
  },
  {
   "cell_type": "code",
   "execution_count": 17,
   "id": "0bc583a7",
   "metadata": {},
   "outputs": [
    {
     "data": {
      "text/plain": [
       "(40000, 5)"
      ]
     },
     "execution_count": 17,
     "metadata": {},
     "output_type": "execute_result"
    }
   ],
   "source": [
    "X_train.shape"
   ]
  },
  {
   "cell_type": "code",
   "execution_count": 18,
   "id": "d8a4ef12",
   "metadata": {},
   "outputs": [
    {
     "data": {
      "text/plain": [
       "(10000, 5)"
      ]
     },
     "execution_count": 18,
     "metadata": {},
     "output_type": "execute_result"
    }
   ],
   "source": [
    "X_test.shape"
   ]
  },
  {
   "cell_type": "code",
   "execution_count": 19,
   "id": "38ba01f8",
   "metadata": {},
   "outputs": [
    {
     "data": {
      "text/plain": [
       "(40000,)"
      ]
     },
     "execution_count": 19,
     "metadata": {},
     "output_type": "execute_result"
    }
   ],
   "source": [
    "y_train.shape"
   ]
  },
  {
   "cell_type": "code",
   "execution_count": 20,
   "id": "5dc5f35a",
   "metadata": {},
   "outputs": [
    {
     "data": {
      "text/plain": [
       "(10000,)"
      ]
     },
     "execution_count": 20,
     "metadata": {},
     "output_type": "execute_result"
    }
   ],
   "source": [
    "y_test.shape"
   ]
  },
  {
   "cell_type": "markdown",
   "id": "6d67b154",
   "metadata": {},
   "source": [
    "### KNN, Linear Regression, SVM, DT"
   ]
  },
  {
   "cell_type": "markdown",
   "id": "84e6fff0",
   "metadata": {},
   "source": [
    "KNN"
   ]
  },
  {
   "cell_type": "code",
   "execution_count": 21,
   "id": "bd4d419a",
   "metadata": {},
   "outputs": [],
   "source": [
    "from sklearn.neighbors import KNeighborsRegressor\n",
    "from sklearn.metrics import mean_squared_error,r2_score"
   ]
  },
  {
   "cell_type": "code",
   "execution_count": 22,
   "id": "26f58fba",
   "metadata": {},
   "outputs": [
    {
     "data": {
      "text/html": [
       "<style>#sk-container-id-1 {color: black;background-color: white;}#sk-container-id-1 pre{padding: 0;}#sk-container-id-1 div.sk-toggleable {background-color: white;}#sk-container-id-1 label.sk-toggleable__label {cursor: pointer;display: block;width: 100%;margin-bottom: 0;padding: 0.3em;box-sizing: border-box;text-align: center;}#sk-container-id-1 label.sk-toggleable__label-arrow:before {content: \"▸\";float: left;margin-right: 0.25em;color: #696969;}#sk-container-id-1 label.sk-toggleable__label-arrow:hover:before {color: black;}#sk-container-id-1 div.sk-estimator:hover label.sk-toggleable__label-arrow:before {color: black;}#sk-container-id-1 div.sk-toggleable__content {max-height: 0;max-width: 0;overflow: hidden;text-align: left;background-color: #f0f8ff;}#sk-container-id-1 div.sk-toggleable__content pre {margin: 0.2em;color: black;border-radius: 0.25em;background-color: #f0f8ff;}#sk-container-id-1 input.sk-toggleable__control:checked~div.sk-toggleable__content {max-height: 200px;max-width: 100%;overflow: auto;}#sk-container-id-1 input.sk-toggleable__control:checked~label.sk-toggleable__label-arrow:before {content: \"▾\";}#sk-container-id-1 div.sk-estimator input.sk-toggleable__control:checked~label.sk-toggleable__label {background-color: #d4ebff;}#sk-container-id-1 div.sk-label input.sk-toggleable__control:checked~label.sk-toggleable__label {background-color: #d4ebff;}#sk-container-id-1 input.sk-hidden--visually {border: 0;clip: rect(1px 1px 1px 1px);clip: rect(1px, 1px, 1px, 1px);height: 1px;margin: -1px;overflow: hidden;padding: 0;position: absolute;width: 1px;}#sk-container-id-1 div.sk-estimator {font-family: monospace;background-color: #f0f8ff;border: 1px dotted black;border-radius: 0.25em;box-sizing: border-box;margin-bottom: 0.5em;}#sk-container-id-1 div.sk-estimator:hover {background-color: #d4ebff;}#sk-container-id-1 div.sk-parallel-item::after {content: \"\";width: 100%;border-bottom: 1px solid gray;flex-grow: 1;}#sk-container-id-1 div.sk-label:hover label.sk-toggleable__label {background-color: #d4ebff;}#sk-container-id-1 div.sk-serial::before {content: \"\";position: absolute;border-left: 1px solid gray;box-sizing: border-box;top: 0;bottom: 0;left: 50%;z-index: 0;}#sk-container-id-1 div.sk-serial {display: flex;flex-direction: column;align-items: center;background-color: white;padding-right: 0.2em;padding-left: 0.2em;position: relative;}#sk-container-id-1 div.sk-item {position: relative;z-index: 1;}#sk-container-id-1 div.sk-parallel {display: flex;align-items: stretch;justify-content: center;background-color: white;position: relative;}#sk-container-id-1 div.sk-item::before, #sk-container-id-1 div.sk-parallel-item::before {content: \"\";position: absolute;border-left: 1px solid gray;box-sizing: border-box;top: 0;bottom: 0;left: 50%;z-index: -1;}#sk-container-id-1 div.sk-parallel-item {display: flex;flex-direction: column;z-index: 1;position: relative;background-color: white;}#sk-container-id-1 div.sk-parallel-item:first-child::after {align-self: flex-end;width: 50%;}#sk-container-id-1 div.sk-parallel-item:last-child::after {align-self: flex-start;width: 50%;}#sk-container-id-1 div.sk-parallel-item:only-child::after {width: 0;}#sk-container-id-1 div.sk-dashed-wrapped {border: 1px dashed gray;margin: 0 0.4em 0.5em 0.4em;box-sizing: border-box;padding-bottom: 0.4em;background-color: white;}#sk-container-id-1 div.sk-label label {font-family: monospace;font-weight: bold;display: inline-block;line-height: 1.2em;}#sk-container-id-1 div.sk-label-container {text-align: center;}#sk-container-id-1 div.sk-container {/* jupyter's `normalize.less` sets `[hidden] { display: none; }` but bootstrap.min.css set `[hidden] { display: none !important; }` so we also need the `!important` here to be able to override the default hidden behavior on the sphinx rendered scikit-learn.org. See: https://github.com/scikit-learn/scikit-learn/issues/21755 */display: inline-block !important;position: relative;}#sk-container-id-1 div.sk-text-repr-fallback {display: none;}</style><div id=\"sk-container-id-1\" class=\"sk-top-container\"><div class=\"sk-text-repr-fallback\"><pre>KNeighborsRegressor()</pre><b>In a Jupyter environment, please rerun this cell to show the HTML representation or trust the notebook. <br />On GitHub, the HTML representation is unable to render, please try loading this page with nbviewer.org.</b></div><div class=\"sk-container\" hidden><div class=\"sk-item\"><div class=\"sk-estimator sk-toggleable\"><input class=\"sk-toggleable__control sk-hidden--visually\" id=\"sk-estimator-id-1\" type=\"checkbox\" checked><label for=\"sk-estimator-id-1\" class=\"sk-toggleable__label sk-toggleable__label-arrow\">KNeighborsRegressor</label><div class=\"sk-toggleable__content\"><pre>KNeighborsRegressor()</pre></div></div></div></div></div>"
      ],
      "text/plain": [
       "KNeighborsRegressor()"
      ]
     },
     "execution_count": 22,
     "metadata": {},
     "output_type": "execute_result"
    }
   ],
   "source": [
    "knn = KNeighborsRegressor()\n",
    "knn.fit(X_train,y_train)"
   ]
  },
  {
   "cell_type": "code",
   "execution_count": 23,
   "id": "bda1336b",
   "metadata": {},
   "outputs": [
    {
     "name": "stdout",
     "output_type": "stream",
     "text": [
      "54247.93901533543\n"
     ]
    }
   ],
   "source": [
    "knn = KNeighborsRegressor()\n",
    "knn.fit(X_train,y_train)\n",
    "y_pred = knn.predict(X_test)\n",
    "print(np.sqrt(mean_squared_error(y_test,y_pred)))"
   ]
  },
  {
   "cell_type": "markdown",
   "id": "5516b5eb",
   "metadata": {},
   "source": [
    "Evaluating"
   ]
  },
  {
   "cell_type": "code",
   "execution_count": 24,
   "id": "0f488f76",
   "metadata": {},
   "outputs": [],
   "source": [
    "from sklearn.metrics import mean_squared_error,r2_score"
   ]
  },
  {
   "cell_type": "code",
   "execution_count": 25,
   "id": "a7f9b86e",
   "metadata": {},
   "outputs": [
    {
     "data": {
      "text/plain": [
       "2942838887.4115524"
      ]
     },
     "execution_count": 25,
     "metadata": {},
     "output_type": "execute_result"
    }
   ],
   "source": [
    "mean_squared_error(y_test,y_pred)"
   ]
  },
  {
   "cell_type": "code",
   "execution_count": 26,
   "id": "0470c47d",
   "metadata": {},
   "outputs": [
    {
     "data": {
      "text/plain": [
       "54247.93901533543"
      ]
     },
     "execution_count": 26,
     "metadata": {},
     "output_type": "execute_result"
    }
   ],
   "source": [
    "np.sqrt(mean_squared_error(y_test,y_pred))"
   ]
  },
  {
   "cell_type": "markdown",
   "id": "1a053e38",
   "metadata": {},
   "source": [
    "Liner Regression"
   ]
  },
  {
   "cell_type": "code",
   "execution_count": 27,
   "id": "446ea74b",
   "metadata": {},
   "outputs": [],
   "source": [
    "from sklearn.linear_model import LinearRegression"
   ]
  },
  {
   "cell_type": "code",
   "execution_count": 28,
   "id": "f8de94d8",
   "metadata": {},
   "outputs": [
    {
     "name": "stdout",
     "output_type": "stream",
     "text": [
      "49403.976927995944\n"
     ]
    }
   ],
   "source": [
    "lr = LinearRegression()\n",
    "lr.fit(X_train,y_train)\n",
    "y_pred = lr.predict(X_test)\n",
    "print(np.sqrt(mean_squared_error(y_test,y_pred)))"
   ]
  },
  {
   "cell_type": "code",
   "execution_count": null,
   "id": "46a9cab8",
   "metadata": {},
   "outputs": [],
   "source": []
  },
  {
   "cell_type": "code",
   "execution_count": 29,
   "id": "e5227c1f",
   "metadata": {},
   "outputs": [],
   "source": [
    "from sklearn.svm import SVR"
   ]
  },
  {
   "cell_type": "code",
   "execution_count": 30,
   "id": "62e8e053",
   "metadata": {},
   "outputs": [
    {
     "data": {
      "text/plain": [
       "' sv = SVR()\\nsv.fit(X_train,y_train)\\ny_pred = sv.predict(X_test)\\nprint(np.sqrt(mean_squared_error(y_test,y_pred)))'"
      ]
     },
     "execution_count": 30,
     "metadata": {},
     "output_type": "execute_result"
    }
   ],
   "source": [
    "''' sv = SVR()\n",
    "sv.fit(X_train,y_train)\n",
    "y_pred = sv.predict(X_test)\n",
    "print(np.sqrt(mean_squared_error(y_test,y_pred)))'''"
   ]
  },
  {
   "cell_type": "code",
   "execution_count": null,
   "id": "68b600f2",
   "metadata": {},
   "outputs": [],
   "source": []
  },
  {
   "cell_type": "code",
   "execution_count": null,
   "id": "520b316e",
   "metadata": {},
   "outputs": [],
   "source": []
  },
  {
   "cell_type": "markdown",
   "id": "4adbdc76",
   "metadata": {},
   "source": [
    "Decision Tree"
   ]
  },
  {
   "cell_type": "code",
   "execution_count": 31,
   "id": "7ba1f0e7",
   "metadata": {},
   "outputs": [],
   "source": [
    "from sklearn.tree import DecisionTreeRegressor"
   ]
  },
  {
   "cell_type": "code",
   "execution_count": 32,
   "id": "4f3e350d",
   "metadata": {},
   "outputs": [
    {
     "name": "stdout",
     "output_type": "stream",
     "text": [
      "72533.94079803275\n"
     ]
    }
   ],
   "source": [
    "dt = DecisionTreeRegressor()\n",
    "dt.fit(X_train,y_train)\n",
    "y_pred = dt.predict(X_test)\n",
    "print(np.sqrt(mean_squared_error(y_test,y_pred)))"
   ]
  },
  {
   "cell_type": "code",
   "execution_count": null,
   "id": "5dae0266",
   "metadata": {},
   "outputs": [],
   "source": []
  },
  {
   "cell_type": "code",
   "execution_count": 33,
   "id": "bc3ad301",
   "metadata": {},
   "outputs": [
    {
     "name": "stderr",
     "output_type": "stream",
     "text": [
      "C:\\Users\\gorla\\anaconda3\\desktop\\lib\\site-packages\\sklearn\\base.py:420: UserWarning: X does not have valid feature names, but LinearRegression was fitted with feature names\n",
      "  warnings.warn(\n"
     ]
    },
    {
     "data": {
      "text/plain": [
       "array([288048.77360633])"
      ]
     },
     "execution_count": 33,
     "metadata": {},
     "output_type": "execute_result"
    }
   ],
   "source": [
    "lr.predict([[2650,3,2,4,1950]])"
   ]
  },
  {
   "cell_type": "code",
   "execution_count": 34,
   "id": "bc541be4",
   "metadata": {},
   "outputs": [
    {
     "name": "stderr",
     "output_type": "stream",
     "text": [
      "C:\\Users\\gorla\\anaconda3\\desktop\\lib\\site-packages\\sklearn\\base.py:420: UserWarning: X does not have valid feature names, but LinearRegression was fitted with feature names\n",
      "  warnings.warn(\n"
     ]
    },
    {
     "data": {
      "text/plain": [
       "286544.24985249375"
      ]
     },
     "execution_count": 34,
     "metadata": {},
     "output_type": "execute_result"
    }
   ],
   "source": [
    "lr.predict([[2650,3,2,2,1950]])[0]"
   ]
  },
  {
   "cell_type": "code",
   "execution_count": 35,
   "id": "14124809",
   "metadata": {},
   "outputs": [
    {
     "data": {
      "text/plain": [
       "array([  99.31308607, 5168.85659283, 2625.12603247,  752.26187692,\n",
       "        -13.64933459])"
      ]
     },
     "execution_count": 35,
     "metadata": {},
     "output_type": "execute_result"
    }
   ],
   "source": [
    "lr.coef_"
   ]
  },
  {
   "cell_type": "code",
   "execution_count": 36,
   "id": "23a60676",
   "metadata": {},
   "outputs": [
    {
     "data": {
      "text/plain": [
       "27719.428600464948"
      ]
     },
     "execution_count": 36,
     "metadata": {},
     "output_type": "execute_result"
    }
   ],
   "source": [
    "lr.intercept_"
   ]
  },
  {
   "cell_type": "code",
   "execution_count": 37,
   "id": "9eb2f5fd",
   "metadata": {},
   "outputs": [
    {
     "name": "stdout",
     "output_type": "stream",
     "text": [
      "286544.24983273225\n"
     ]
    }
   ],
   "source": [
    "sqft = 2650\n",
    "bed = 3\n",
    "bath = 2\n",
    "nb = 2\n",
    "year = 1950\n",
    "\n",
    "price = 99.31308607 * sqft +  5168.85659283 *bed + 2625.12603247*bath +752.26187692* nb -13.64933459 * year + 27719.4286004623\n",
    "print(price)"
   ]
  },
  {
   "cell_type": "code",
   "execution_count": null,
   "id": "8f602939",
   "metadata": {},
   "outputs": [],
   "source": []
  },
  {
   "cell_type": "code",
   "execution_count": null,
   "id": "e3de77e1",
   "metadata": {},
   "outputs": [],
   "source": []
  },
  {
   "cell_type": "markdown",
   "id": "3ff9ddb8",
   "metadata": {},
   "source": [
    "## Pickling"
   ]
  },
  {
   "cell_type": "code",
   "execution_count": 38,
   "id": "3d174305",
   "metadata": {},
   "outputs": [],
   "source": [
    "import pickle"
   ]
  },
  {
   "cell_type": "code",
   "execution_count": 39,
   "id": "0c47733c",
   "metadata": {},
   "outputs": [],
   "source": [
    "pickle.dump(lr,open(\"lr.pkl\",\"wb\"))  # writing as a binary format"
   ]
  },
  {
   "cell_type": "code",
   "execution_count": 40,
   "id": "e037c446",
   "metadata": {},
   "outputs": [],
   "source": [
    "model = pickle.load(open(\"lr.pkl\",\"rb\"))"
   ]
  },
  {
   "cell_type": "code",
   "execution_count": 41,
   "id": "5b265dec",
   "metadata": {},
   "outputs": [
    {
     "name": "stderr",
     "output_type": "stream",
     "text": [
      "C:\\Users\\gorla\\anaconda3\\desktop\\lib\\site-packages\\sklearn\\base.py:420: UserWarning: X does not have valid feature names, but LinearRegression was fitted with feature names\n",
      "  warnings.warn(\n"
     ]
    },
    {
     "data": {
      "text/plain": [
       "array([236036.32407558])"
      ]
     },
     "execution_count": 41,
     "metadata": {},
     "output_type": "execute_result"
    }
   ],
   "source": [
    "model.predict([[2126,4,1,1,1969]])"
   ]
  },
  {
   "cell_type": "code",
   "execution_count": null,
   "id": "abd07112",
   "metadata": {},
   "outputs": [],
   "source": []
  },
  {
   "cell_type": "code",
   "execution_count": null,
   "id": "b2713b9f",
   "metadata": {},
   "outputs": [],
   "source": []
  },
  {
   "cell_type": "code",
   "execution_count": null,
   "id": "19f60124",
   "metadata": {},
   "outputs": [],
   "source": []
  },
  {
   "cell_type": "code",
   "execution_count": null,
   "id": "fb857d85",
   "metadata": {},
   "outputs": [],
   "source": []
  },
  {
   "cell_type": "code",
   "execution_count": null,
   "id": "ce21c468",
   "metadata": {},
   "outputs": [],
   "source": []
  }
 ],
 "metadata": {
  "kernelspec": {
   "display_name": "Python 3 (ipykernel)",
   "language": "python",
   "name": "python3"
  },
  "language_info": {
   "codemirror_mode": {
    "name": "ipython",
    "version": 3
   },
   "file_extension": ".py",
   "mimetype": "text/x-python",
   "name": "python",
   "nbconvert_exporter": "python",
   "pygments_lexer": "ipython3",
   "version": "3.10.9"
  }
 },
 "nbformat": 4,
 "nbformat_minor": 5
}
